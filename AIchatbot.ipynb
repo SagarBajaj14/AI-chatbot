{
  "nbformat": 4,
  "nbformat_minor": 0,
  "metadata": {
    "colab": {
      "provenance": [],
      "authorship_tag": "ABX9TyP/OuefJX1zSfgW9OdSUyhG",
      "include_colab_link": true
    },
    "kernelspec": {
      "name": "python3",
      "display_name": "Python 3"
    },
    "language_info": {
      "name": "python"
    }
  },
  "cells": [
    {
      "cell_type": "markdown",
      "metadata": {
        "id": "view-in-github",
        "colab_type": "text"
      },
      "source": [
        "<a href=\"https://colab.research.google.com/github/SagarBajaj14/AI-chatbot/blob/main/AIchatbot.ipynb\" target=\"_parent\"><img src=\"https://colab.research.google.com/assets/colab-badge.svg\" alt=\"Open In Colab\"/></a>"
      ]
    },
    {
      "cell_type": "code",
      "source": [
        "!pip install tflearn"
      ],
      "metadata": {
        "colab": {
          "base_uri": "https://localhost:8080/"
        },
        "id": "LfONKlV2Shan",
        "outputId": "43055e17-90e1-4431-9a18-1f578d131a77"
      },
      "execution_count": 1,
      "outputs": [
        {
          "output_type": "stream",
          "name": "stdout",
          "text": [
            "Looking in indexes: https://pypi.org/simple, https://us-python.pkg.dev/colab-wheels/public/simple/\n",
            "Collecting tflearn\n",
            "  Downloading tflearn-0.5.0.tar.gz (107 kB)\n",
            "\u001b[K     |████████████████████████████████| 107 kB 5.2 MB/s \n",
            "\u001b[?25hRequirement already satisfied: numpy in /usr/local/lib/python3.8/dist-packages (from tflearn) (1.21.6)\n",
            "Requirement already satisfied: six in /usr/local/lib/python3.8/dist-packages (from tflearn) (1.15.0)\n",
            "Requirement already satisfied: Pillow in /usr/local/lib/python3.8/dist-packages (from tflearn) (7.1.2)\n",
            "Building wheels for collected packages: tflearn\n",
            "  Building wheel for tflearn (setup.py) ... \u001b[?25l\u001b[?25hdone\n",
            "  Created wheel for tflearn: filename=tflearn-0.5.0-py3-none-any.whl size=127299 sha256=81da44a891f2fae3f9cd2de2f48362ade901c34bbd0aebb8197df9f4cc50d936\n",
            "  Stored in directory: /root/.cache/pip/wheels/65/9b/15/cb1e6b279c14ed897530d15cfd7da8e3df8a947e593f5cfe59\n",
            "Successfully built tflearn\n",
            "Installing collected packages: tflearn\n",
            "Successfully installed tflearn-0.5.0\n"
          ]
        }
      ]
    },
    {
      "cell_type": "code",
      "source": [
        "import nltk\n",
        "nltk.download('punkt')"
      ],
      "metadata": {
        "colab": {
          "base_uri": "https://localhost:8080/"
        },
        "id": "qFdxP9bXS8NY",
        "outputId": "3f12a0b2-e75f-4e92-abbb-d7cc2c849f77"
      },
      "execution_count": 2,
      "outputs": [
        {
          "output_type": "stream",
          "name": "stderr",
          "text": [
            "[nltk_data] Downloading package punkt to /root/nltk_data...\n",
            "[nltk_data]   Unzipping tokenizers/punkt.zip.\n"
          ]
        },
        {
          "output_type": "execute_result",
          "data": {
            "text/plain": [
              "True"
            ]
          },
          "metadata": {},
          "execution_count": 2
        }
      ]
    },
    {
      "cell_type": "code",
      "execution_count": 4,
      "metadata": {
        "colab": {
          "base_uri": "https://localhost:8080/"
        },
        "id": "QY4a2D7ASFLE",
        "outputId": "9fb45ee2-252d-4eb9-bc6e-2ce954a6b3ce"
      },
      "outputs": [
        {
          "output_type": "stream",
          "name": "stdout",
          "text": [
            "[[0 0 0 ... 0 0 0]\n",
            " [0 0 0 ... 0 0 1]\n",
            " [0 0 0 ... 0 0 0]\n",
            " ...\n",
            " [0 1 0 ... 0 0 0]\n",
            " [0 0 0 ... 1 0 0]\n",
            " [0 0 0 ... 0 0 0]]\n",
            "[[0 0 1 0 0 0 0]\n",
            " [0 0 1 0 0 0 0]\n",
            " [0 0 1 0 0 0 0]\n",
            " [0 0 1 0 0 0 0]\n",
            " [0 0 1 0 0 0 0]\n",
            " [0 0 1 0 0 0 0]\n",
            " [0 1 0 0 0 0 0]\n",
            " [0 1 0 0 0 0 0]\n",
            " [0 1 0 0 0 0 0]\n",
            " [0 1 0 0 0 0 0]\n",
            " [0 1 0 0 0 0 0]\n",
            " [0 1 0 0 0 0 0]\n",
            " [1 0 0 0 0 0 0]\n",
            " [1 0 0 0 0 0 0]\n",
            " [1 0 0 0 0 0 0]\n",
            " [1 0 0 0 0 0 0]\n",
            " [1 0 0 0 0 0 0]\n",
            " [0 0 0 0 1 0 0]\n",
            " [0 0 0 0 1 0 0]\n",
            " [0 0 0 0 1 0 0]\n",
            " [0 0 0 0 1 0 0]\n",
            " [0 0 0 0 1 0 0]\n",
            " [0 0 0 1 0 0 0]\n",
            " [0 0 0 1 0 0 0]\n",
            " [0 0 0 1 0 0 0]\n",
            " [0 0 0 1 0 0 0]\n",
            " [0 0 0 1 0 0 0]\n",
            " [0 0 0 0 0 0 1]\n",
            " [0 0 0 0 0 0 1]\n",
            " [0 0 0 0 0 0 1]\n",
            " [0 0 0 0 0 0 1]\n",
            " [0 0 0 0 0 0 1]\n",
            " [0 0 0 0 0 0 1]\n",
            " [0 0 0 0 0 1 0]\n",
            " [0 0 0 0 0 1 0]\n",
            " [0 0 0 0 0 1 0]\n",
            " [0 0 0 0 0 1 0]\n",
            " [0 0 0 0 0 1 0]\n",
            " [0 0 0 0 0 1 0]]\n"
          ]
        }
      ],
      "source": [
        "import nltk\n",
        "from nltk.stem.lancaster import LancasterStemmer\n",
        "stemmer = LancasterStemmer()\n",
        "\n",
        "import numpy as np\n",
        "import tflearn\n",
        "import tensorflow\n",
        "import random\n",
        "import json\n",
        "import pickle\n",
        "\n",
        "\n",
        "with open(\"intents.json\") as file:\n",
        "    data = json.load(file)\n",
        "\n",
        "# opening a saved model if it exists\n",
        "try:\n",
        "  with open(\"data.pickle\", \"rb\") as f:\n",
        "    words, labels, training, output = pickle.load(f)\n",
        "\n",
        "#preprocessing the data for the model\n",
        "# input will be a list of bag of words and the output consists of labels/tags from intents.json file\n",
        "except:\n",
        "  words = []  # stemmed words from the data\n",
        "  labels= []  # tags from the data\n",
        "  docs_x = [] # training data that will be processed and compared to words list\n",
        "  docs_y = [] # tags corresponding to each word in data\n",
        "\n",
        "  for intent in data[\"intents\"]:\n",
        "      for pattern in intent[\"patterns\"]:\n",
        "          wrds = nltk.word_tokenize(pattern)  \n",
        "          words.extend(wrds)\n",
        "          docs_x.append(wrds)\n",
        "          docs_y.append(intent[\"tag\"])\n",
        "\n",
        "\n",
        "      if intent[\"tag\"] not in labels:\n",
        "          labels.append(intent['tag'])\n",
        "      \n",
        "  words  = [stemmer.stem(w.lower()) for w in words if w != \"?\"]\n",
        "  words = sorted(list(set(words)))\n",
        "\n",
        "  labels = sorted(labels)\n",
        "\n",
        "  training = []\n",
        "  output = []\n",
        "\n",
        "  out_empty = [0 for _ in range(len(labels))]\n",
        "\n",
        "  for x, doc in enumerate(docs_x):\n",
        "    bow = []\n",
        "    wrds = [stemmer.stem(w.lower()) for w in doc]\n",
        "    for w in words:\n",
        "      if w in wrds:\n",
        "        bow.append(1)\n",
        "      else:\n",
        "        bow.append(0)\n",
        "\n",
        "    output_row = out_empty[:]\n",
        "    output_row[labels.index(docs_y[x])] = 1 # tag output \n",
        "\n",
        "    training.append(bow)\n",
        "    output.append(output_row)\n",
        "\n",
        "  training = np.array(training)\n",
        "  output = np.array(output)\n",
        "\n",
        "  with open(\"data.pickle\", \"rb\") as f:\n",
        "    pickle.dump((words, labels, training, output), f)\n",
        "\n",
        "  #print(training)\n",
        "  #print(output)\n",
        "\n"
      ]
    },
    {
      "cell_type": "code",
      "source": [
        "# Neural network for the model\n",
        "\n",
        "# neural net consists of input layer as bag of words two hidden layers and output layer as tags predicted\n",
        "net = tflearn.input_data(shape=[None, len(training[0])])\n",
        "net = tflearn.fully_connected(net, 8)\n",
        "net = tflearn.fully_connected(net, 8)\n",
        "net = tflearn.fully_connected(net, len(output[0]), activation=\"softmax\")\n",
        "net = tflearn.regression(net)\n",
        "\n",
        "model = tflearn.DNN(net)\n",
        "\n",
        "try:\n",
        "  model.load(\"model.tflearn\") #load model if saved \n",
        "except:\n",
        "  model.fit(training, output, n_epoch=1000, batch_size=8, show_metric=True) # fit the model and then save\n",
        "  model.save(\"model.tflearn\")\n"
      ],
      "metadata": {
        "colab": {
          "base_uri": "https://localhost:8080/"
        },
        "id": "mNvfsVXpS_qX",
        "outputId": "9090e893-7c5c-4cd1-aaec-f7bb36ac34e6"
      },
      "execution_count": 5,
      "outputs": [
        {
          "output_type": "stream",
          "name": "stdout",
          "text": [
            "Training Step: 4999  | total loss: \u001b[1m\u001b[32m0.02109\u001b[0m\u001b[0m | time: 0.027s\n",
            "| Adam | epoch: 1000 | loss: 0.02109 - acc: 1.0000 -- iter: 32/39\n",
            "Training Step: 5000  | total loss: \u001b[1m\u001b[32m0.02195\u001b[0m\u001b[0m | time: 0.034s\n",
            "| Adam | epoch: 1000 | loss: 0.02195 - acc: 1.0000 -- iter: 39/39\n",
            "--\n"
          ]
        }
      ]
    },
    {
      "cell_type": "code",
      "source": [
        "def bag_of_words(s, words):\n",
        "  bag = [0 for _ in range(len(words))]\n",
        "\n",
        "  s_words = nltk.word_tokenize(s)\n",
        "  s_words = [stemmer.stem(word.lower()) for word in s_words]\n",
        "\n",
        "  for sen in s_words:\n",
        "    for i,w in enumerate(words):\n",
        "      if w==sen:\n",
        "        bag[i] = 1\n",
        "\n",
        "  return np.array(bag)\n",
        "\n",
        "def chat():\n",
        "  print(\"Start talking with the chatbot(press q to quit)\")\n",
        "  while True:\n",
        "    inp = input(\"User: \")\n",
        "    if inp.lower() == \"q\":\n",
        "      break\n",
        "\n",
        "    res = model.predict([bag_of_words(inp, words)])[0]\n",
        "    # choose the maximum probability tag from the result.\n",
        "    res_index = np.argmax(res)   \n",
        "    tag = labels[res_index]\n",
        "\n",
        "    # Check whether predicted probability is above 80%  \n",
        "    if res[res_index] > 0.8:\n",
        "      for tags in data[\"intents\"]:\n",
        "        if tags[\"tag\"] == tag:\n",
        "          responses = tags[\"responses\"]\n",
        "\n",
        "      print(random.choice(responses))\n",
        "    else:\n",
        "      print(\"I am not sure what you are talking about please try again!\")\n",
        "\n",
        "chat()"
      ],
      "metadata": {
        "colab": {
          "base_uri": "https://localhost:8080/"
        },
        "id": "FYwAfZOWyieq",
        "outputId": "67794532-4def-4a67-9699-7f892ed40378"
      },
      "execution_count": 13,
      "outputs": [
        {
          "name": "stdout",
          "output_type": "stream",
          "text": [
            "Start talking with the chatbot(press q to quit)\n",
            "User: Hey how are you\n",
            "Hey there, how can I help you?\n",
            "User: what is ur name\n",
            "I am Alexa\n",
            "User: How old are you\n",
            "I am 20!\n",
            "User: can i have the menu\n",
            "Today's special is cheesy fries and oreo shake\n",
            "User: i would like to order that\n",
            "Thanks for your order it will take 10 minutes to get it ready\n",
            "User: what are ur timings\n",
            "I am not sure what you are talking about please try again!\n",
            "User: what are the shop timings\n",
            "You are welcome in our shop from Monday to Sunday 10am-9pm\n",
            "User: See you soon\n",
            "See you soon\n",
            "User: Goodbye\n",
            "Goodbye!\n",
            "User: q\n"
          ]
        }
      ]
    }
  ]
}